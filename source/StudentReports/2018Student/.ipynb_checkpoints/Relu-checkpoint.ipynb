{
 "cells": [
  {
   "cell_type": "markdown",
   "metadata": {},
   "source": [
    "# Relu 可视化"
   ]
  },
  {
   "cell_type": "markdown",
   "metadata": {},
   "source": [
    "黄**"
   ]
  },
  {
   "cell_type": "markdown",
   "metadata": {
    "collapsed": true
   },
   "source": [
    "```\n",
    "# -*- coding: utf-8 -*-\n",
    "import numpy as np\n",
    "from mpl_toolkits.mplot3d import Axes3D\n",
    "import matplotlib.pyplot as plt\n",
    "from matplotlib.colors import ListedColormap\n",
    "from sklearn import datasets\n",
    "from sklearn.neural_network import MLPClassifier\n",
    "from matplotlib.animation import FuncAnimation\n",
    "\n",
    "def MaxMinNormalization(x):  \n",
    "    x = (x - np.min(x)) / (np.max(x) - np.min(x)) \n",
    "    return x\n",
    "\n",
    "def datasetC(n):\n",
    "    np.random.seed(0)\n",
    "    x,y= datasets.make_circles(n_samples=n, factor=0.05, noise=.2)\n",
    "    X=255*MaxMinNormalization(x)\n",
    "    Y=y;Y[Y==0]=-1\n",
    "    return X,Y\n",
    "\n",
    "def meshgrid():\n",
    "    a = np.linspace(0,255,256);b = np.linspace(0,255,256)\n",
    "    [Xa,Yb] = np.meshgrid(a,b)\n",
    "    points = [point for point in zip(Xa.flat,Yb.flat)]; np.random.shuffle(points)\n",
    "    P=np.array(points)\n",
    "    return P\n",
    "\n",
    "cm_bright = ListedColormap(['Blue', 'Orange'])\n",
    "\n",
    "if __name__ == '__main__':\n",
    "    plt.figure(1, figsize=(4, 4))\n",
    "    X,Y=datasetC(500)\n",
    "    plt.scatter(X[:,0], X[:,1], s=10, c=Y, cmap=cm_bright)\n",
    "    plt.xticks();plt.yticks()\n",
    "    #plt.savefig('D:\\VisualNN\\Cdataset.png',format='png',transparent=True,dpi=300);plt.close()\n",
    "    \n",
    "    plt.figure(2, figsize=(4, 4))\n",
    "    X=X-128\n",
    "    P=meshgrid();P=P-128;t=0.02;P=np.array(P);P=P[0:int(t*65536)]\n",
    "    clf =MLPClassifier(hidden_layer_sizes=(3,2),activation='relu',solver='lbfgs',learning_rate_init=0.3,max_iter=2000)\n",
    "    clf.fit(X, Y);print('score = ',clf.score(X, Y))\n",
    "    pd=clf.predict(P)\n",
    "    w=clf.coefs_\n",
    "    b=clf.intercepts_\n",
    "    plt.scatter(P[:,0], P[:,1], s=10, c=pd, cmap=cm_bright)\n",
    "    plt.xticks();plt.yticks()\n",
    "    #plt.savefig('D:\\VisualNN\\Cpdrelu(3,2).png',format='png',transparent=True,dpi=300);plt.close()\n",
    "    \n",
    "    ip1=np.dot(  P,w[0])+b[0];  op1=ip1.copy();op1[op1<0]=0;\n",
    "    ip2=np.dot(op1,w[1])+b[1];  op2=ip2.copy();op2[op2<0]=0;\n",
    "    ip3=np.dot(op2,w[2])+b[2];  op3=ip3.copy();op3[op3<0]=0;\n",
    "       \n",
    "    fig = plt.figure(3, figsize=(4, 4))\n",
    "    def update(i):\n",
    "        ax = Axes3D(fig, elev=15, azim=i)\n",
    "        ax.scatter(ip1[:,0],ip1[:,1],ip1[:,2], s=5, c=pd, cmap=ListedColormap(['Blue', 'Orange']))\n",
    "        return ax\n",
    "    i=np.hstack((range(0,90,5),range(90,0,-5)))\n",
    "    animation = FuncAnimation(fig, update, i,  interval=100)\n",
    "    #animation.save('D:\\VisualNN\\Crelu1ip(3,2).gif',  writer='imagemagick');plt.close()\n",
    "    \n",
    "    fig = plt.figure(4, figsize=(4, 4))\n",
    "    def update(i):\n",
    "        ax = Axes3D(fig, elev=15, azim=i)\n",
    "        ax.scatter(op1[:,0],op1[:,1],op1[:,2], s=5, c=pd, cmap=ListedColormap(['Blue', 'Orange']))\n",
    "        return ax\n",
    "    i=np.hstack((range(0,90,5),range(90,0,-5)))\n",
    "    animation = FuncAnimation(fig, update, i,  interval=100)\n",
    "    #animation.save('D:\\VisualNN\\Crelu1op(3,2).gif',  writer='imagemagick');plt.close()\n",
    "    \n",
    "    fig = plt.figure(5, figsize=(4, 4))\n",
    "    plt.scatter(ip2[:,0], ip2[:,1], s=5, c=pd, cmap=ListedColormap(['Blue', 'Orange']))\n",
    "    #plt.savefig('D:\\VisualNN\\Crelu2ip(3,2).png',format='png',bbox_inches='tight',transparent=True,dpi=300);plt.close()\n",
    "    \n",
    "    fig = plt.figure(6, figsize=(4, 4))\n",
    "    plt.scatter(op2[:,0], op2[:,1], s=5, c=pd, cmap=ListedColormap(['Blue', 'Orange']))\n",
    "    plt.ylim(-1200,390)\n",
    "    #plt.savefig('D:\\VisualNN\\Crelu2op(3,2).png',format='png',bbox_inches='tight',transparent=True,dpi=300);plt.close()\n",
    "    \n",
    "    fig = plt.figure(7, figsize=(4, 4))\n",
    "    plt.scatter(ip3[:,0], ip3[:,0], s=5, c=pd, cmap=ListedColormap(['Blue', 'Orange']))\n",
    "    #plt.savefig('D:\\VisualNN\\Crelu3ip(3,2).png',format='png',bbox_inches='tight',transparent=True,dpi=300);plt.close()\n",
    "    \n",
    "    fig = plt.figure(8, figsize=(4, 4))\n",
    "    plt.scatter(op3[:,0], op3[:,0], s=5, c=pd, cmap=ListedColormap(['Blue', 'Orange']))\n",
    "    #plt.savefig('D:\\VisualNN\\Crelu3op(3,2).png',format='png',bbox_inches='tight',transparent=True,dpi=300);plt.close()\n",
    "\n",
    "\n",
    "```\n",
    "    "
   ]
  },
  {
   "cell_type": "code",
   "execution_count": null,
   "metadata": {
    "collapsed": true
   },
   "outputs": [],
   "source": []
  }
 ],
 "metadata": {
  "anaconda-cloud": {},
  "kernelspec": {
   "display_name": "Python [default]",
   "language": "python",
   "name": "python3"
  },
  "language_info": {
   "codemirror_mode": {
    "name": "ipython",
    "version": 3
   },
   "file_extension": ".py",
   "mimetype": "text/x-python",
   "name": "python",
   "nbconvert_exporter": "python",
   "pygments_lexer": "ipython3",
   "version": "3.6.0"
  }
 },
 "nbformat": 4,
 "nbformat_minor": 2
}
