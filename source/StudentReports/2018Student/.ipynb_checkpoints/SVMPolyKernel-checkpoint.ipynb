{
 "cells": [
  {
   "cell_type": "markdown",
   "metadata": {},
   "source": [
    "# SVM 多项式核"
   ]
  },
  {
   "cell_type": "markdown",
   "metadata": {},
   "source": [
    "张**"
   ]
  },
  {
   "cell_type": "code",
   "execution_count": 1,
   "metadata": {},
   "outputs": [
    {
     "name": "stdout",
     "output_type": "stream",
     "text": [
      "Populating the interactive namespace from numpy and matplotlib\n"
     ]
    }
   ],
   "source": [
    "%pylab inline\n",
    "\n",
    "import numpy as np\n",
    "import skimage.io as SKimg\n",
    "import matplotlib.pyplot as plt\n",
    "from sklearn.cluster import KMeans\n",
    "from sklearn import mixture\n",
    "from sklearn import metrics\n",
    "import matplotlib.pyplot as plt\n",
    "from mpl_toolkits import mplot3d\n",
    "from skimage import io,data"
   ]
  },
  {
   "cell_type": "code",
   "execution_count": 2,
   "metadata": {
    "collapsed": true
   },
   "outputs": [],
   "source": [
    "def MyStand(img,cof):\n",
    "    roi1=copy(img)\n",
    "    roi1[roi1!=255]=0\n",
    "    roi1[roi1==255]=1\n",
    "# # roi1[roi1==255]=1\n",
    "    roi1=roi1*cof\n",
    "    return roi1\n",
    "    "
   ]
  },
  {
   "cell_type": "code",
   "execution_count": 3,
   "metadata": {},
   "outputs": [
    {
     "name": "stdout",
     "output_type": "stream",
     "text": [
      "(191L, 1280L, 307L)\n",
      "(191L, 500L, 307L)\n",
      "[ 0.86881155  0.11072629  0.01735181]\n",
      "(3L, 153500L)\n"
     ]
    }
   ],
   "source": [
    "from sklearn.decomposition import PCA\n",
    "img=SKimg.imread(\"G:\\\\test\\\\Hyperspectral_Project\\\\dc.tif\")\n",
    "print(img.shape)\n",
    "# img = np.transpose(img,(1,2,0))#(1280, 307,191)\n",
    "# print(img.shape)\n",
    "\n",
    "# img=[:,0:500,100:200]\n",
    "img=img[:,0:500,:]#（191，500, 100）\n",
    "print(img.shape)\n",
    "\n",
    "X =img.reshape(191,153500)\n",
    "# X2 =X.reshape(191,1280,307)\n",
    "\n",
    "# # plt.imshow(X2[50,:,:])\n",
    "# plt.imshow(img[50,:,:])\n",
    "\n",
    "# X_pca=X[(59,26,16),:]\n",
    "pca = PCA(n_components=3)  \n",
    "pca.fit(X)  \n",
    "print(pca.explained_variance_ratio_)\n",
    "\n",
    "X_pca=pca.components_\n",
    "\n",
    "print(X_pca.shape)"
   ]
  },
  {
   "cell_type": "code",
   "execution_count": 4,
   "metadata": {},
   "outputs": [
    {
     "data": {
      "text/plain": [
       "<matplotlib.image.AxesImage at 0xe504588>"
      ]
     },
     "execution_count": 4,
     "metadata": {},
     "output_type": "execute_result"
    },
    {
     "data": {
      "image/png": "[encoded data removed]",
      "text/plain": [
       "<matplotlib.figure.Figure at 0xdec22e8>"
      ]
     },
     "metadata": {},
     "output_type": "display_data"
    }
   ],
   "source": [
    "# import Image\n",
    "from PIL import Image\n",
    "roof = imread('G:\\\\test\\\\Hyperspectral_Project\\\\1roof.bmp')\n",
    "roi1=MyStand(roof,1)\n",
    "\n",
    "\n",
    "street = imread('G:\\\\test\\\\Hyperspectral_Project\\\\2street.tif')\n",
    "roi2=MyStand(street,2)\n",
    "\n",
    "\n",
    "path = imread('G:\\\\test\\\\Hyperspectral_Project\\\\3path.tif')\n",
    "roi3=MyStand(path,3)\n",
    "\n",
    "grass = imread('G:\\\\test\\\\Hyperspectral_Project\\\\4grass.tif')\n",
    "roi4=MyStand(grass,4)\n",
    "\n",
    "street = imread('G:\\\\test\\\\Hyperspectral_Project\\\\5tree.tif')\n",
    "roi5=MyStand(street,5)\n",
    "\n",
    "street = imread('G:\\\\test\\\\Hyperspectral_Project\\\\6water.tif')\n",
    "roi6=MyStand(street,6)\n",
    "\n",
    "street = imread('G:\\\\test\\\\Hyperspectral_Project\\\\7shadow.tif')\n",
    "roi7=MyStand(street,7)\n",
    "\n",
    "# street = imread('G:\\\\test\\\\Hyperspectral_Project\\\\8other.tif')\n",
    "# roi8=MyStand(street,0)\n",
    "\n",
    "roi=roi1+roi2+roi3+roi4+roi5+roi6+roi7\n",
    "roi_=roi[0:500,:]\n",
    "\n",
    "plt.imshow(roi_)#[0:500,100:200])\n",
    "# plt.savefig('G:\\\\roi.tif') \n",
    "# roi_img=Image.fromarray(roi)\n",
    "# roi_img.save('G:\\\\roi2.tif')"
   ]
  },
  {
   "cell_type": "code",
   "execution_count": 6,
   "metadata": {},
   "outputs": [
    {
     "name": "stdout",
     "output_type": "stream",
     "text": [
      "(500L, 307L)\n",
      "(3L, 153500L)\n"
     ]
    }
   ],
   "source": [
    "# X_pca=X_pca[:,0:500,100:200]\n",
    "# plt.imshow(X_pca[1,0:500,100:200])\n",
    "print(roi_.shape)\n",
    "print(X_pca.shape)"
   ]
  },
  {
   "cell_type": "code",
   "execution_count": 9,
   "metadata": {},
   "outputs": [
    {
     "name": "stdout",
     "output_type": "stream",
     "text": [
      "(153500L, 3L)\n",
      "(153500L,)\n"
     ]
    }
   ],
   "source": [
    "X_pn = np.transpose(X_pca,(1,0))\n",
    "X=X_pn\n",
    "Y=roi_new.flatten();\n",
    "print(X_pn.shape)\n",
    "print(roi_new.shape)"
   ]
  },
  {
   "cell_type": "code",
   "execution_count": 10,
   "metadata": {
    "collapsed": true
   },
   "outputs": [],
   "source": [
    "from sklearn.model_selection import train_test_split\n",
    "from sklearn.linear_model import LogisticRegression\n",
    "from sklearn.metrics import accuracy_score\n",
    "from ipywidgets import interact,interact_manual"
   ]
  },
  {
   "cell_type": "code",
   "execution_count": 11,
   "metadata": {},
   "outputs": [
    {
     "name": "stderr",
     "output_type": "stream",
     "text": [
      "D:\\Anaconda2\\lib\\site-packages\\sklearn\\model_selection\\_split.py:2026: FutureWarning: From version 0.21, test_size will always complement train_size unless both are specified.\n",
      "  FutureWarning)\n"
     ]
    }
   ],
   "source": [
    "X_train, X_test, y_train, y_test = train_test_split(\n",
    "        X,\n",
    "        Y,\n",
    "        train_size=0.75)"
   ]
  },
  {
   "cell_type": "code",
   "execution_count": 12,
   "metadata": {},
   "outputs": [
    {
     "name": "stdout",
     "output_type": "stream",
     "text": [
      "(38375L, 3L)\n"
     ]
    }
   ],
   "source": [
    "print(X_test.shape)"
   ]
  },
  {
   "cell_type": "code",
   "execution_count": 13,
   "metadata": {
    "collapsed": true
   },
   "outputs": [],
   "source": [
    "#训练模型\n",
    "from sklearn.svm import SVC\n",
    "\n",
    "clf = SVC(C=1E2,kernel='rbf',gamma='auto').fit(X_train, y_train)"
   ]
  },
  {
   "cell_type": "code",
   "execution_count": 14,
   "metadata": {},
   "outputs": [
    {
     "data": {
      "text/plain": [
       "0.62461889250814329"
      ]
     },
     "execution_count": 14,
     "metadata": {},
     "output_type": "execute_result"
    }
   ],
   "source": [
    "clf.score(X,Y)"
   ]
  },
  {
   "cell_type": "code",
   "execution_count": 15,
   "metadata": {},
   "outputs": [
    {
     "data": {
      "text/plain": [
       "0.62538110749185671"
      ]
     },
     "execution_count": 15,
     "metadata": {},
     "output_type": "execute_result"
    }
   ],
   "source": [
    "clf.score(X_test, y_test)"
   ]
  },
  {
   "cell_type": "code",
   "execution_count": 19,
   "metadata": {},
   "outputs": [
    {
     "data": {
      "text/plain": [
       "0.62538110749185671"
      ]
     },
     "execution_count": 19,
     "metadata": {},
     "output_type": "execute_result"
    }
   ],
   "source": [
    "y_model = clf.predict(X_test)\n",
    "accuracy_score(y_test, y_model)"
   ]
  },
  {
   "cell_type": "code",
   "execution_count": 20,
   "metadata": {},
   "outputs": [
    {
     "data": {
      "image/png": "[encoded data removed]",
      "text/plain": [
       "<matplotlib.figure.Figure at 0x19fbd8d0>"
      ]
     },
     "metadata": {},
     "output_type": "display_data"
    }
   ],
   "source": [
    "import seaborn as sns\n",
    "from sklearn.metrics import confusion_matrix\n",
    "\n",
    "mat = confusion_matrix(y_test,y_model)\n",
    "\n",
    "sns.heatmap(mat, square=True, annot=True,fmt='d', cbar=False)\n",
    "plt.xlabel('predicted value')\n",
    "plt.ylabel('true value');"
   ]
  }
 ],
 "metadata": {
  "anaconda-cloud": {},
  "kernelspec": {
   "display_name": "Python 2",
   "language": "python",
   "name": "python2"
  },
  "language_info": {
   "codemirror_mode": {
    "name": "ipython",
    "version": 2
   },
   "file_extension": ".py",
   "mimetype": "text/x-python",
   "name": "python",
   "nbconvert_exporter": "python",
   "pygments_lexer": "ipython2",
   "version": "2.7.14"
  }
 },
 "nbformat": 4,
 "nbformat_minor": 2
}
