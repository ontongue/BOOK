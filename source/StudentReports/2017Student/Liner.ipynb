{
 "cells": [
  {
   "cell_type": "markdown",
   "metadata": {},
   "source": [
    "# 线性分类器"
   ]
  },
  {
   "cell_type": "markdown",
   "metadata": {},
   "source": [
    "丁**"
   ]
  },
  {
   "cell_type": "markdown",
   "metadata": {},
   "source": [
    "## 导入"
   ]
  },
  {
   "cell_type": "code",
   "execution_count": 12,
   "metadata": {},
   "outputs": [
    {
     "name": "stdout",
     "output_type": "stream",
     "text": [
      "Populating the interactive namespace from numpy and matplotlib\n"
     ]
    },
    {
     "name": "stderr",
     "output_type": "stream",
     "text": [
      "D:\\ProgramData\\Anaconda3\\lib\\site-packages\\IPython\\core\\magics\\pylab.py:161: UserWarning: pylab import has clobbered these variables: ['mat', 'clf', 'shape']\n",
      "`%matplotlib` prevents importing * from pylab and numpy\n",
      "  \"\\n`%matplotlib` prevents importing * from pylab and numpy\"\n"
     ]
    }
   ],
   "source": [
    "%pylab inline\n",
    "\n",
    "import numpy as np\n",
    "import seaborn as sns\n",
    "import matplotlib.pyplot as plt\n",
    "import matplotlib.image as mpimg\n",
    "from sklearn.linear_model import SGDClassifier\n",
    "from sklearn.model_selection  import train_test_split\n",
    "from sklearn.preprocessing import StandardScaler\n",
    "from matplotlib.colors import ListedColormap\n",
    "from sklearn.metrics import accuracy_score\n",
    "from skimage import io,data\n",
    "from sklearn.metrics import confusion_matrix\n"
   ]
  },
  {
   "cell_type": "markdown",
   "metadata": {
    "collapsed": true
   },
   "source": [
    "## 读取数据"
   ]
  },
  {
   "cell_type": "code",
   "execution_count": 13,
   "metadata": {
    "collapsed": true
   },
   "outputs": [],
   "source": [
    "path_to_tiff='E:\\Data\\Hyperspectral_Project/'\n",
    "\n",
    "raster = path_to_tiff + \"dc.tif\"\n",
    "samples = path_to_tiff + \"dc_samples2.tif\"\n",
    "classification = path_to_tiff + \"Classification\\\\\"\n",
    "\n",
    "#img=io.imread(raster,as_grey=False)\n",
    "# read data as TIF\n",
    "img = io.imread(raster)#(191, 1280, 307)\n",
    "img=np.transpose(img,(1,2,0))#(1280, 307,191)\n",
    "\n",
    "#img=img[0,:,:]\n",
    "# read training samples as TIF with same dimensions as the image\n",
    "roi = io.imread(samples)#(1280, 307,3)\n",
    "#roi=np.transpose(roi,(2,0,1))#(3, 1280, 307)"
   ]
  },
  {
   "cell_type": "code",
   "execution_count": 14,
   "metadata": {},
   "outputs": [
    {
     "name": "stdout",
     "output_type": "stream",
     "text": [
      "The training data include 7 classes: [ 1488.  2976.  4465.  5953.  7441.  7663.  9152.]\n",
      "(1280, 307, 191)\n",
      "(1280, 307, 3)\n"
     ]
    }
   ],
   "source": [
    "\n",
    "def rgb2gray(rgb):\n",
    "    return np.dot(rgb[...,:3], [0.299, 0.587, 0.114])\n",
    "\n",
    "Y=np.floor(rgb2gray(roi))#(np.sum(roi,axis=2)\n",
    "\n",
    "labels = np.unique(Y[Y > 0])\n",
    "print('The training data include {n} classes: {classes}'.format(n=labels.size, classes=labels))\n",
    "print(img.shape)\n",
    "\n",
    "print(roi.shape)\n",
    "img =img.reshape(392960,191)\n",
    "\n",
    "#print(img)\n",
    "#print(roi)\n",
    "\n",
    "#print(roi > 0)\n",
    "#print(roi[roi > 0])"
   ]
  },
  {
   "cell_type": "code",
   "execution_count": null,
   "metadata": {
    "collapsed": true
   },
   "outputs": [],
   "source": []
  },
  {
   "cell_type": "code",
   "execution_count": 15,
   "metadata": {},
   "outputs": [
    {
     "data": {
      "text/plain": [
       "array([    0.,  1488.,  2976.,  4465.,  5953.,  7441.,  7663.,  9152.])"
      ]
     },
     "execution_count": 15,
     "metadata": {},
     "output_type": "execute_result"
    }
   ],
   "source": [
    "\n",
    "Y=Y.ravel()\n",
    "np.unique(Y)"
   ]
  },
  {
   "cell_type": "markdown",
   "metadata": {},
   "source": [
    "## 拆分训练集50，验证集25，测试集25"
   ]
  },
  {
   "cell_type": "code",
   "execution_count": 16,
   "metadata": {},
   "outputs": [
    {
     "name": "stdout",
     "output_type": "stream",
     "text": [
      "(8079,)\n",
      "(8079, 191)\n"
     ]
    }
   ],
   "source": [
    "X = img[Y>0,:]\n",
    "Y = Y[Y>0]\n",
    "print(Y.shape)\n",
    "print(X.shape)\n",
    "\n",
    "train_size=0.75\n",
    "test_size=0.25\n",
    "shape=Y.size\n",
    "\n",
    "X_train, X_test, Y_train, Y_test = train_test_split(X, Y, train_size=train_size, test_size=test_size, random_state=None)\n",
    "#X_train, X_valid, Y_train, Y_valid = train_test_split(X_train, Y_train, train_size=0.66, random_state=None)"
   ]
  },
  {
   "cell_type": "markdown",
   "metadata": {},
   "source": [
    "## 训练模型"
   ]
  },
  {
   "cell_type": "code",
   "execution_count": 23,
   "metadata": {
    "scrolled": true
   },
   "outputs": [
    {
     "data": {
      "text/plain": [
       "SGDClassifier(alpha=0.01, average=False, class_weight=None, epsilon=0.1,\n",
       "       eta0=0.0, fit_intercept=True, l1_ratio=0.15,\n",
       "       learning_rate='optimal', loss='log', n_iter=200, n_jobs=1,\n",
       "       penalty='l2', power_t=0.5, random_state=None, shuffle=True,\n",
       "       verbose=0, warm_start=False)"
      ]
     },
     "execution_count": 23,
     "metadata": {},
     "output_type": "execute_result"
    }
   ],
   "source": [
    "#模型参数\n",
    "lossParams=[\"hinge\",\"modified_huber\",\"log\"]\n",
    "penaltyParams=[\"l2\",\"l1\",\"elasticnet\"]\n",
    "n_iterParams=200#迭代次数\n",
    "\n",
    "i=2\n",
    "j=0\n",
    "\n",
    "params=[lossParams[i],penaltyParams[j],n_iterParams]\n",
    "\n",
    "clf = SGDClassifier(loss=params[0], penalty=params[1],alpha=0.01, n_iter=params[2], fit_intercept=True)\n",
    "clf.fit(X_train, Y_train)\n"
   ]
  },
  {
   "cell_type": "code",
   "execution_count": 24,
   "metadata": {
    "collapsed": true
   },
   "outputs": [],
   "source": [
    "scores=[0,0]\n",
    "#训练集得分\n",
    "scores[0]=(\"%.6f\" % clf.score(X_train, Y_train))"
   ]
  },
  {
   "cell_type": "code",
   "execution_count": 25,
   "metadata": {},
   "outputs": [
    {
     "data": {
      "image/png": "[encoded data removed]",
      "text/plain": [
       "<matplotlib.figure.Figure at 0x2a900562da0>"
      ]
     },
     "metadata": {},
     "output_type": "display_data"
    }
   ],
   "source": [
    "#测试集得分\n",
    "#用于调试分类器参数\n",
    "y_model=clf.predict(X_test)\n",
    "scores[1]= (\"%.6f\" % clf.score(X_test,Y_test))\n",
    "\n",
    "#混淆矩阵\n",
    "mat = confusion_matrix(Y_test, y_model)\n",
    "\n",
    "sns.heatmap(mat, square=True, annot=True,fmt='d', cbar=False)\n",
    "plt.xlabel('predicted value')\n",
    "plt.ylabel('true value')\n",
    "\n",
    "filename=classification+str(train_size)+\"_\"+str(shape)+\"_\"+str(params)+\"_\"+str(scores)\n",
    "plt.savefig(filename+\".png\",dpi=100)"
   ]
  },
  {
   "cell_type": "markdown",
   "metadata": {},
   "source": [
    "## 对图形分类"
   ]
  },
  {
   "cell_type": "code",
   "execution_count": 26,
   "metadata": {
    "collapsed": true,
    "scrolled": true
   },
   "outputs": [],
   "source": [
    "#对图像进行分类\n",
    "img_class=clf.predict(img)\n",
    "img_class=img_class.reshape(1280,307)\n",
    "#绘制  plt.imshow(img_class)\n",
    "#保存\n",
    "io.imsave(filename+\".tif\",img_class)"
   ]
  },
  {
   "cell_type": "code",
   "execution_count": 27,
   "metadata": {
    "collapsed": true
   },
   "outputs": [],
   "source": [
    "#plt.imshow(img.reshape(1280,307,191))\n"
   ]
  },
  {
   "cell_type": "code",
   "execution_count": null,
   "metadata": {
    "collapsed": true
   },
   "outputs": [],
   "source": []
  },
  {
   "cell_type": "code",
   "execution_count": 28,
   "metadata": {},
   "outputs": [
    {
     "name": "stdout",
     "output_type": "stream",
     "text": [
      "['2', 2, 'kome']['0.996534', '0.997525'].jpg\n",
      "(2, 2, 3)\n"
     ]
    },
    {
     "data": {
      "text/plain": [
       "array([[ 6,  8],\n",
       "       [10, 10]])"
      ]
     },
     "execution_count": 28,
     "metadata": {},
     "output_type": "execute_result"
    }
   ],
   "source": [
    "params=['2',2,'kome']\n",
    "strs=str(params)+str(scores)+'.jpg'\n",
    "print(strs)\n",
    "\n",
    "p=np.array([[[1,2,3],[1,2,5]],[[1,4,5],[1,3,6]]])\n",
    "p=p.reshape(2,2,3)\n",
    "print(p.shape)\n",
    "np.sum(p,axis=2)"
   ]
  }
 ],
 "metadata": {
  "kernelspec": {
   "display_name": "Python 3",
   "language": "python",
   "name": "python3"
  },
  "language_info": {
   "codemirror_mode": {
    "name": "ipython",
    "version": 3
   },
   "file_extension": ".py",
   "mimetype": "text/x-python",
   "name": "python",
   "nbconvert_exporter": "python",
   "pygments_lexer": "ipython3",
   "version": "3.6.0"
  }
 },
 "nbformat": 4,
 "nbformat_minor": 2
}
