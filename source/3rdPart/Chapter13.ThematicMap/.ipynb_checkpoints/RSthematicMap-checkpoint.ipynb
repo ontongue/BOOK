{
 "cells": [
  {
   "cell_type": "markdown",
   "metadata": {},
   "source": [
    "# 14.1 遥感专题制图面临的问题"
   ]
  },
  {
   "cell_type": "markdown",
   "metadata": {},
   "source": [
    "（1）遥感影像质量受成像条件影响大：大气状况多变，地形的复杂程度，都会影响遥感影像的质量，导致影像不能反映地表真实情况。"
   ]
  },
  {
   "cell_type": "markdown",
   "metadata": {},
   "source": [
    "![1](TP/cloude.JPG)"
   ]
  },
  {
   "cell_type": "markdown",
   "metadata": {},
   "source": [
    "（2）传感器本身的质量问题：传感器在成像时可能出现多种误差，甚至出现错误，因此需要对数据进行误差校正，修复错误数据。"
   ]
  },
  {
   "cell_type": "markdown",
   "metadata": {},
   "source": [
    "![2](TP/ETML.JPG)"
   ]
  },
  {
   "cell_type": "markdown",
   "metadata": {},
   "source": [
    "（3）遥感影像时空不连续：由于多种因素的影响，地表某些区域没有影响覆盖，或者是覆盖不完全，\n",
    "\n",
    "在某些时间点上没有数据，在实际研究中需要重建这些缺失的影像数据。"
   ]
  },
  {
   "cell_type": "markdown",
   "metadata": {},
   "source": [
    "![3](TP/time.JPG)"
   ]
  },
  {
   "cell_type": "markdown",
   "metadata": {},
   "source": [
    "# 14.2 水体遥感制图"
   ]
  },
  {
   "cell_type": "markdown",
   "metadata": {},
   "source": [
    "A.纯净水体：在TM/ETM+7, 4, 3 波段合成的影像上呈现深蓝色, 且在各个波段光谱高吸收、低反射,光谱曲线整体很低;（光谱上容易与图像阴影想混淆）\n",
    "\n",
    "\n",
    "B. 含泥沙浑浊水体：在7, 4, 3 合成的影像上呈现浅蓝色, 由于河流泥沙反射的原因, 使得光谱反射率比纯净的水体要高, 从1 波段到4 波段反射率逐渐增高, 5 波段和6 波段反射率骤降, 致使诸如浅水河流等水体与周边裸土容易混淆, 边界不明显。\n",
    "\n",
    "\n",
    "C.富营养化的水体：在4, 3, 2 波段合成的图像上偏红, 与植被的光谱相似, 在波段3 有吸收谷, 波段4有反射峰,但和植被相比, 整体的反射较低"
   ]
  },
  {
   "cell_type": "markdown",
   "metadata": {},
   "source": [
    "![4](TP/water.JPG)"
   ]
  },
  {
   "cell_type": "markdown",
   "metadata": {},
   "source": [
    "水体信息提取：基于多源遥感影像，依据归一化水体指数NDWI、归一化植被指数NDVI等多种特征参数，\n",
    "\n",
    "利用SVM、面向对象分类等多种机器学习分类算法，能够提取出水体，制图流域、河网等专题地图。"
   ]
  },
  {
   "cell_type": "markdown",
   "metadata": {},
   "source": [
    "![5](TP/classwater.JPG)"
   ]
  },
  {
   "cell_type": "markdown",
   "metadata": {},
   "source": [
    "基于SVM和面向对象分割的水体提取效果："
   ]
  },
  {
   "cell_type": "markdown",
   "metadata": {},
   "source": [
    "![6](TP/classwaterSVM.JPG)"
   ]
  },
  {
   "cell_type": "markdown",
   "metadata": {},
   "source": [
    " The European Commission's science and knowledge service ----- Global Surface Water Explorer：  https://ec.europa.eu/jrc/en/scientific-tool/global-surface-water-explorer"
   ]
  },
  {
   "cell_type": "markdown",
   "metadata": {},
   "source": [
    "全球地表水体制图数据集：https://global-surface-water.appspot.com/"
   ]
  },
  {
   "cell_type": "markdown",
   "metadata": {},
   "source": [
    "![7](TP/gloabalwater.JPG)"
   ]
  },
  {
   "cell_type": "markdown",
   "metadata": {},
   "source": [
    "# 14.3 植被遥感制图"
   ]
  },
  {
   "cell_type": "markdown",
   "metadata": {},
   "source": [
    "陆表植被对地球生态环境具有极其重要的作用，根据遥感影像动态提取地表植被，这对于监测植被状况和保护生态环境具有重要意义。"
   ]
  },
  {
   "cell_type": "markdown",
   "metadata": {},
   "source": [
    "![8](TP/VG.JPG)"
   ]
  },
  {
   "cell_type": "markdown",
   "metadata": {},
   "source": [
    "全球森林植被遥感监测数据：http://globalforestchange.org/"
   ]
  },
  {
   "cell_type": "markdown",
   "metadata": {},
   "source": [
    "![9](TP/GEEForst.JPG)"
   ]
  },
  {
   "cell_type": "markdown",
   "metadata": {},
   "source": [
    "MODIS数据有多种植被遥感参数的产品，可用来提取陆表植被信息"
   ]
  },
  {
   "cell_type": "markdown",
   "metadata": {},
   "source": [
    "![10](TP/MODISVG.JPG)"
   ]
  },
  {
   "cell_type": "markdown",
   "metadata": {},
   "source": [
    "# 14.4 建设用地制图"
   ]
  },
  {
   "cell_type": "markdown",
   "metadata": {},
   "source": [
    "建设用地：建造建筑物、构筑物的土地，是城乡住宅和公共设施用地，工矿用地，能源、交通、水利、通信等基础设施用地，旅游用地，军事用地等，\n",
    "\n",
    "付出一定投资（土地开发建设费用），通过工程手段，为各项建设提供的土地。是利用土地的承载能力或建筑空间，不以取得生物产品为主要目的的用地。"
   ]
  },
  {
   "cell_type": "markdown",
   "metadata": {},
   "source": [
    "![11](TP/building.JPG)"
   ]
  },
  {
   "cell_type": "markdown",
   "metadata": {},
   "source": [
    "纹理特征（PANTEX）：反映建筑区较高的辐射反差（建筑vs阴影）。\n",
    "\n",
    "形态特征（mtDAP）：multi-scale Differential Attribute Profile (DAP)\n",
    "\n",
    "基于多种特征聚合，采用面向对象的思想，可以从高分影像中提取出建设用地，且能达到较高的精度。"
   ]
  },
  {
   "cell_type": "markdown",
   "metadata": {},
   "source": [
    "![12](TP/classbuild.JPG)"
   ]
  },
  {
   "cell_type": "code",
   "execution_count": null,
   "metadata": {},
   "outputs": [],
   "source": []
  }
 ],
 "metadata": {
  "kernelspec": {
   "display_name": "Python 3",
   "language": "python",
   "name": "python3"
  },
  "language_info": {
   "codemirror_mode": {
    "name": "ipython",
    "version": 3
   },
   "file_extension": ".py",
   "mimetype": "text/x-python",
   "name": "python",
   "nbconvert_exporter": "python",
   "pygments_lexer": "ipython3",
   "version": "3.6.4"
  },
  "toc": {
   "colors": {
    "hover_highlight": "#DAA520",
    "navigate_num": "#000000",
    "navigate_text": "#333333",
    "running_highlight": "#FF0000",
    "selected_highlight": "#FFD700",
    "sidebar_border": "#EEEEEE",
    "wrapper_background": "#FFFFFF"
   },
   "moveMenuLeft": true,
   "nav_menu": {
    "height": "84px",
    "width": "252px"
   },
   "navigate_menu": true,
   "number_sections": true,
   "sideBar": true,
   "threshold": 4,
   "toc_cell": false,
   "toc_section_display": "block",
   "toc_window_display": true,
   "widenNotebook": false
  }
 },
 "nbformat": 4,
 "nbformat_minor": 2
}
