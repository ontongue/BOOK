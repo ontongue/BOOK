{
 "cells": [
  {
   "cell_type": "markdown",
   "metadata": {},
   "source": [
    "# 15.1变化检测概述"
   ]
  },
  {
   "cell_type": "markdown",
   "metadata": {},
   "source": [
    "从不同时期的遥感数据中，定量分析和确定地表变化的特征与过程。\n",
    "\n",
    "遥感变化检测可以确定变化的类型、分布状况、变化量、变化趋势。\n",
    "\n",
    "由于陆地表面的变化在很大程度上控制着地球的能量平衡，因此对\n",
    "土地覆盖变化的定量化研究，已成为遥感研究的热点之一。\n",
    "\n",
    "实际应用如：违法用地监测、灾情评估。"
   ]
  },
  {
   "cell_type": "markdown",
   "metadata": {},
   "source": [
    "![1](CG/change11.JPG)"
   ]
  },
  {
   "cell_type": "markdown",
   "metadata": {},
   "source": [
    "在研究城市扩展、森林变化、干旱影响、洪涝灾害等方面均用到变化检测。"
   ]
  },
  {
   "cell_type": "markdown",
   "metadata": {},
   "source": [
    "![2](CG/change12.JPG)"
   ]
  },
  {
   "cell_type": "markdown",
   "metadata": {},
   "source": [
    "遥感系统因素的影响：\n",
    "\n",
    "时间分辨率：根据检测对象的时相变化特点确定遥感检测的频率，如年、季、月等，jin'ke尽可能选择相同或者相近的时相\n",
    "\n",
    "空间分辨率：考察检测对象的空间尺度及空间变异，确定其对遥感数据空间分辨率的要求\n",
    "\n",
    "光谱分辨率：应根据检测对象的类型与相应的光谱特性选择合适的遥感数据与波段\n",
    "\n",
    "辐射分辨率：一般应采用具有相同辐射分辨率的不同时相遥感图像。 如果采用具有不同辐射分辨率的遥感图像进行比较，需要把较低辐射分辨率图像转换为较高辐射分辨率图像。\n"
   ]
  },
  {
   "cell_type": "markdown",
   "metadata": {},
   "source": [
    "环境因素的影响：\n",
    "\n",
    "大气状况：用于变化检测的遥感图像应当无云或没有很浓的水汽，一般云覆盖不能超过20%。\n",
    "\n",
    "物候特征：植物按照天、季节、周年物候生长，不同季节植被生长状况存在极大差异，如果采用不同季节的遥感图像进行年变化比较，就可能得出错误的结论。\n",
    "\n",
    "土壤湿度：土壤湿度条件对地物反射特性有很大的影响，有些变化检测不仅需要检测图像获取时的土壤湿度，还需要获得检测前几天或前几周的雨量记录，以确定土壤湿度变化对光谱特性的影响。\n"
   ]
  },
  {
   "cell_type": "markdown",
   "metadata": {},
   "source": [
    "变化检测主要处理步骤："
   ]
  },
  {
   "cell_type": "markdown",
   "metadata": {},
   "source": [
    "![3](CG/change13.JPG)"
   ]
  },
  {
   "cell_type": "markdown",
   "metadata": {},
   "source": [
    "# 15.2 变化检测的主要方法"
   ]
  },
  {
   "cell_type": "markdown",
   "metadata": {},
   "source": [
    "![4](CG/changeF.JPG)"
   ]
  },
  {
   "cell_type": "markdown",
   "metadata": {},
   "source": [
    "## 15.2.1 图像叠合方法"
   ]
  },
  {
   "cell_type": "markdown",
   "metadata": {},
   "source": [
    "![5](CG/change21.JPG)"
   ]
  },
  {
   "cell_type": "markdown",
   "metadata": {},
   "source": [
    "![6](CG/change22.JPG)"
   ]
  },
  {
   "cell_type": "markdown",
   "metadata": {},
   "source": [
    "## 15.2.2 图像代数运算方法"
   ]
  },
  {
   "cell_type": "markdown",
   "metadata": {},
   "source": [
    "![7](CG/change23.JPG)"
   ]
  },
  {
   "cell_type": "markdown",
   "metadata": {},
   "source": [
    "## 15.2.3 主成分分析方法"
   ]
  },
  {
   "cell_type": "markdown",
   "metadata": {},
   "source": [
    "![8](CG/change24.JPG)"
   ]
  },
  {
   "cell_type": "markdown",
   "metadata": {},
   "source": [
    "主成分差值法：两期影像分别进行主成分变换，选择第一主成分（或其它）进行差值运算\n",
    "\n",
    "差值主成分法：两期影像先对应波段进行差值运算，然后进行主成分变换"
   ]
  },
  {
   "cell_type": "markdown",
   "metadata": {},
   "source": [
    "![9](CG/change25.JPG)"
   ]
  },
  {
   "cell_type": "markdown",
   "metadata": {},
   "source": [
    "## 15.2.4 分类后比较法"
   ]
  },
  {
   "cell_type": "markdown",
   "metadata": {},
   "source": [
    "![10](CG/change26.JPG)"
   ]
  },
  {
   "cell_type": "markdown",
   "metadata": {},
   "source": [
    "![11](CG/change27.JPG)"
   ]
  },
  {
   "cell_type": "markdown",
   "metadata": {},
   "source": [
    "![12](CG/change28.JPG)"
   ]
  },
  {
   "cell_type": "markdown",
   "metadata": {},
   "source": [
    "## 15.2.5 光谱变化向量分析"
   ]
  },
  {
   "cell_type": "markdown",
   "metadata": {},
   "source": [
    "![13](CG/change29.JPG)"
   ]
  },
  {
   "cell_type": "markdown",
   "metadata": {},
   "source": [
    "![14](CG/change210.JPG)"
   ]
  },
  {
   "cell_type": "markdown",
   "metadata": {},
   "source": [
    "对两个不同时相的遥感图像进行光谱变化向量分析，可以生成两个结果图：变化强度图和变化方向图\n",
    "\n",
    "实际应用中，根据区域具体情况对变化强度设定一个阈值：若像元变化强度在阈值范围内，可以认为该点未发生类型变化；若超出此阈值范围，则判断该点已经发生了类型变化。"
   ]
  },
  {
   "cell_type": "markdown",
   "metadata": {},
   "source": [
    "## 15.2.6 面向对象的变化检测"
   ]
  },
  {
   "cell_type": "markdown",
   "metadata": {},
   "source": [
    "面向对象：根据像素间邻接关系创建和使用图像对象\n",
    "\n",
    "前处理：基于像素空间模板提取空间特征\n",
    "\n",
    "后处理：马尔可夫随机场、光谱空间分析"
   ]
  },
  {
   "cell_type": "markdown",
   "metadata": {},
   "source": [
    "![15](CG/change211.JPG)"
   ]
  },
  {
   "cell_type": "markdown",
   "metadata": {},
   "source": [
    "![16](CG/change212.JPG)"
   ]
  },
  {
   "cell_type": "markdown",
   "metadata": {},
   "source": [
    "# 15.3 长时间变化建模方法"
   ]
  },
  {
   "cell_type": "markdown",
   "metadata": {},
   "source": [
    "## 15.3.1 时间序列分析"
   ]
  },
  {
   "cell_type": "markdown",
   "metadata": {},
   "source": [
    "![17](CG/change31.JPG)"
   ]
  },
  {
   "cell_type": "markdown",
   "metadata": {},
   "source": [
    "![18](CG/change32.JPG)"
   ]
  },
  {
   "cell_type": "markdown",
   "metadata": {},
   "source": [
    "## 15.3.2 BFAST时间序列断点分析"
   ]
  },
  {
   "cell_type": "markdown",
   "metadata": {},
   "source": [
    "![19](CG/BFast.JPG)"
   ]
  },
  {
   "cell_type": "markdown",
   "metadata": {},
   "source": [
    "![20](CG/duanPoint.JPG)"
   ]
  },
  {
   "cell_type": "code",
   "execution_count": null,
   "metadata": {},
   "outputs": [],
   "source": []
  }
 ],
 "metadata": {
  "kernelspec": {
   "display_name": "Python 3",
   "language": "python",
   "name": "python3"
  },
  "language_info": {
   "codemirror_mode": {
    "name": "ipython",
    "version": 3
   },
   "file_extension": ".py",
   "mimetype": "text/x-python",
   "name": "python",
   "nbconvert_exporter": "python",
   "pygments_lexer": "ipython3",
   "version": "3.6.4"
  },
  "toc": {
   "colors": {
    "hover_highlight": "#DAA520",
    "navigate_num": "#000000",
    "navigate_text": "#333333",
    "running_highlight": "#FF0000",
    "selected_highlight": "#FFD700",
    "sidebar_border": "#EEEEEE",
    "wrapper_background": "#FFFFFF"
   },
   "moveMenuLeft": true,
   "nav_menu": {
    "height": "192px",
    "width": "252px"
   },
   "navigate_menu": true,
   "number_sections": true,
   "sideBar": true,
   "threshold": 4,
   "toc_cell": false,
   "toc_section_display": "block",
   "toc_window_display": true,
   "widenNotebook": false
  }
 },
 "nbformat": 4,
 "nbformat_minor": 2
}
