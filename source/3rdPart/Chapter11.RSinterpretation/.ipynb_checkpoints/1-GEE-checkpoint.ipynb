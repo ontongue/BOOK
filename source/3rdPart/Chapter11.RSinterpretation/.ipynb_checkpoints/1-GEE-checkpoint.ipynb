{
 "cells": [
  {
   "cell_type": "markdown",
   "metadata": {},
   "source": [
    "# 12.1Google Earth Engine简介"
   ]
  },
  {
   "cell_type": "markdown",
   "metadata": {},
   "source": [
    "## 12.1.1 GEE网站"
   ]
  },
  {
   "cell_type": "markdown",
   "metadata": {},
   "source": [
    "网址链接：https://earthengine.google.com/"
   ]
  },
  {
   "cell_type": "markdown",
   "metadata": {},
   "source": [
    "![1](GEE/GEEfirst.png)"
   ]
  },
  {
   "cell_type": "markdown",
   "metadata": {},
   "source": [
    "## 12.1.2 Code Editer（网页版交互式代码编写）"
   ]
  },
  {
   "cell_type": "markdown",
   "metadata": {},
   "source": [
    "网址链接：https://code.earthengine.google.com/"
   ]
  },
  {
   "cell_type": "markdown",
   "metadata": {},
   "source": [
    "![2](GEE/CodeEditer.png)"
   ]
  },
  {
   "cell_type": "markdown",
   "metadata": {},
   "source": [
    "## 12.1.3 优势"
   ]
  },
  {
   "cell_type": "markdown",
   "metadata": {},
   "source": [
    "地球引擎是一个PB级规模的科学分析和地理空间数据集的可视化平台，为公众利益，为企业和政府用户。\n",
    "\n",
    "a  海量数据：数十亿GB的地理和遥感类数据\n",
    "\n",
    "\n",
    "b  多类型数据：Landsat、MODIS、Sentinel等多种多样遥感影像数据\n",
    "\n",
    "\n",
    "c  强大的计算能力：谷歌云平台和后台服务器提供强大的数据存储和处理能力"
   ]
  },
  {
   "cell_type": "markdown",
   "metadata": {},
   "source": [
    "## 12.1.4 数据的调用和显示"
   ]
  },
  {
   "cell_type": "markdown",
   "metadata": {},
   "source": [
    "![3](GEE/ImportData.png)       "
   ]
  },
  {
   "cell_type": "markdown",
   "metadata": {},
   "source": [
    "![4](GEE/displayData.png) "
   ]
  },
  {
   "cell_type": "markdown",
   "metadata": {},
   "source": [
    "## 12.1.5 保存和输出"
   ]
  },
  {
   "cell_type": "markdown",
   "metadata": {},
   "source": [
    "可以从地球引擎导出图像、映射瓦片、表和视频。出口可以发送到您的谷歌驱动器帐户或谷歌云存储。\n",
    "\n",
    "Export.image.toDrive( )  \n",
    "\n",
    "Export.image.toAsset( )\n",
    "\n",
    "Export.table.toDrive( )   \n",
    "\n",
    "Export.table.toCloudStorage( )\n",
    "\n",
    "Export.video.toDrive( )    \n",
    "\n",
    "Export.video.toCloudStorage ( )"
   ]
  },
  {
   "cell_type": "markdown",
   "metadata": {},
   "source": [
    "![5](GEE/Export.png)"
   ]
  },
  {
   "cell_type": "markdown",
   "metadata": {},
   "source": [
    "## 12.1.6 应用示例(分析2000年-2016年全国植被覆盖变化趋势)"
   ]
  },
  {
   "cell_type": "markdown",
   "metadata": {},
   "source": [
    "利用一元线性变化斜率的方法，分析全国2000年至2016年植被覆盖变化趋势，共分为五级：明显退化、轻微退化、基本不变、轻微改善、明显改善"
   ]
  },
  {
   "cell_type": "markdown",
   "metadata": {},
   "source": [
    "![6](GEE/PlantChange.png)"
   ]
  },
  {
   "cell_type": "markdown",
   "metadata": {},
   "source": [
    "从上图可以看出，2000年至2016年，全国的植被覆盖变化总体上呈现改善的状况，东部沿海和东北的部分地区存在植被覆盖退化。"
   ]
  }
 ],
 "metadata": {
  "kernelspec": {
   "display_name": "Python 3",
   "language": "python",
   "name": "python3"
  },
  "language_info": {
   "codemirror_mode": {
    "name": "ipython",
    "version": 3
   },
   "file_extension": ".py",
   "mimetype": "text/x-python",
   "name": "python",
   "nbconvert_exporter": "python",
   "pygments_lexer": "ipython3",
   "version": "3.6.4"
  },
  "toc": {
   "colors": {
    "hover_highlight": "#DAA520",
    "navigate_num": "#000000",
    "navigate_text": "#333333",
    "running_highlight": "#FF0000",
    "selected_highlight": "#FFD700",
    "sidebar_border": "#EEEEEE",
    "wrapper_background": "#FFFFFF"
   },
   "moveMenuLeft": true,
   "nav_menu": {
    "height": "137px",
    "width": "252px"
   },
   "navigate_menu": true,
   "number_sections": true,
   "sideBar": true,
   "threshold": 4,
   "toc_cell": false,
   "toc_section_display": "block",
   "toc_window_display": true,
   "widenNotebook": false
  }
 },
 "nbformat": 4,
 "nbformat_minor": 2
}
