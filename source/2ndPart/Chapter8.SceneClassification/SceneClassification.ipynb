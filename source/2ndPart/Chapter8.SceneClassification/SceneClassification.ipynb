{
 "cells": [
  {
   "cell_type": "markdown",
   "metadata": {},
   "source": [
    "# 8.1 场景分类"
   ]
  },
  {
   "cell_type": "markdown",
   "metadata": {},
   "source": [
    "遥感图像中的场景分类，对应于计算机视觉中的图像分类。场景分类算法对图像进行定量分析，把图像划归为若干个类别中的某一种，代替人的视觉判读。"
   ]
  },
  {
   "cell_type": "markdown",
   "metadata": {},
   "source": [
    "![](images/UC-Merced.png)"
   ]
  },
  {
   "cell_type": "markdown",
   "metadata": {},
   "source": [
    "如上图所示，是UC-Merced数据集的实例图片。需要设计分类器，将未知类别的图像，划分到21个类别中的一个。一整张图片是一个训练样本，在此数据集中，共2100幅图像，每幅图像是256×256大小的RGB图片。共21个类别，每个类别100个样本，数据类别间均衡的数据集。"
   ]
  },
  {
   "cell_type": "markdown",
   "metadata": {},
   "source": [
    "这是一个典型的场景分类的案例，给定一副图像，给出图像主体的类别。"
   ]
  }
 ],
 "metadata": {
  "kernelspec": {
   "display_name": "Python 3",
   "language": "python",
   "name": "python3"
  },
  "language_info": {
   "codemirror_mode": {
    "name": "ipython",
    "version": 3
   },
   "file_extension": ".py",
   "mimetype": "text/x-python",
   "name": "python",
   "nbconvert_exporter": "python",
   "pygments_lexer": "ipython3",
   "version": "3.6.4"
  }
 },
 "nbformat": 4,
 "nbformat_minor": 2
}
