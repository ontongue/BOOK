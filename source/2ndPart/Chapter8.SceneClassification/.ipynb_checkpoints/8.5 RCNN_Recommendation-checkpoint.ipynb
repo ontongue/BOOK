{
 "cells": [
  {
   "cell_type": "markdown",
   "metadata": {},
   "source": [
    "# 8.5 RCNN系列推荐阅读"
   ]
  },
  {
   "cell_type": "markdown",
   "metadata": {},
   "source": [
    "RCNN系列的目标检测方法是经典的Two Stage方法，优先推荐同学们阅读该系列的论文。此外，为了帮助大家理解，下文为大家推荐部分内容较好的中文博客。"
   ]
  },
  {
   "cell_type": "markdown",
   "metadata": {},
   "source": [
    "[一文读懂Faster RCNN](https://zhuanlan.zhihu.com/p/31426458)  \n",
    "[关于目标检测 Object detection](https://www.cnblogs.com/Ann21/p/9779514.html)  \n",
    "[彻底理解Faster R-CNN内涵，以及目标检测](https://zhuanlan.zhihu.com/p/107583433)"
   ]
  },
  {
   "cell_type": "markdown",
   "metadata": {},
   "source": [
    "# 8.6 RCNN相关代码参考"
   ]
  },
  {
   "cell_type": "markdown",
   "metadata": {},
   "source": [
    "目前RCNN系列最为经典，同时也是使用最多的网络是何凯明提出的Mask R-CNN, 在此处为大家提供论文附带的代码以及在此基础上Facebook改进的代码。  \n",
    "  \n",
    "[mask R-CNN benchmark](https://github.com/facebookresearch/maskrcnn-benchmark)  \n",
    "[Detectron 2](https://github.com/facebookresearch/detectron2)\n",
    "\n",
    "两者使用的均是Pytorch框架，其中Detectron2使用的Pytorch版本更新。此外，如果对网络结构不加更改，可以直接使用TorchVision中Mask R-CNN或者Faster R-CNN。  \n",
    "\n",
    "\n",
    "[TorchVision](https://pytorch.org/docs/stable/torchvision/models.html#object-detection-instance-segmentation-and-person-keypoint-detection)\n",
    "\n",
    "对于对Keras/TF这类静态图框架有偏好的同学，这里也提供一份TF和Keras结合实现的Mask R-CNN代码。  \n",
    "\n",
    "[Mask R-CNN - Keras implemented](https://github.com/matterport/Mask_RCNN)"
   ]
  },
  {
   "cell_type": "code",
   "execution_count": null,
   "metadata": {},
   "outputs": [],
   "source": []
  }
 ],
 "metadata": {
  "kernelspec": {
   "display_name": "Python 3",
   "language": "python",
   "name": "python3"
  },
  "language_info": {
   "codemirror_mode": {
    "name": "ipython",
    "version": 3
   },
   "file_extension": ".py",
   "mimetype": "text/x-python",
   "name": "python",
   "nbconvert_exporter": "python",
   "pygments_lexer": "ipython3",
   "version": "3.6.7"
  }
 },
 "nbformat": 4,
 "nbformat_minor": 4
}
