{
 "cells": [
  {
   "cell_type": "markdown",
   "metadata": {},
   "source": [
    "# 11.1 GAN推荐阅读"
   ]
  },
  {
   "cell_type": "markdown",
   "metadata": {},
   "source": [
    "对抗生成网络（GAN）自提出以来已经凭借其逼真的图片生成能力备受关注，近年来也衍生出诸多GAN的模型，并且其对抗训练的方式也被广泛应用于其他非生成任务当中。下文为大家推荐部分GAN相关中文博客。"
   ]
  },
  {
   "cell_type": "markdown",
   "metadata": {},
   "source": [
    "[GAN学习指南：从原理入门到制作生成Demo](https://zhuanlan.zhihu.com/p/24767059)  \n",
    "[GAN笔记——理论与实现](https://www.cnblogs.com/fydeblog/p/9439024.html)"
   ]
  },
  {
   "cell_type": "markdown",
   "metadata": {},
   "source": [
    "# 11.2 GAN相关代码推荐\n",
    "因为对抗生成网络的强大生成能力以及风格转换能力，目前已经有诸多GAN的有趣应用，以下为部分较受关注的GAN的代码。"
   ]
  },
  {
   "cell_type": "markdown",
   "metadata": {},
   "source": [
    "[Keras-GAN](https://github.com/eriklindernoren/Keras-GAN):这里面包括从最原始的GAN到不同的变形结构的Keras实现方式。  \n",
    "  \n",
    "[PyTorch-GAN](https://github.com/eriklindernoren/PyTorch-GAN):与上一个repo出自同一作者，是不同GAN模型的Pytorch实现方式。\n",
    "\n",
    "[Cartoon-GAN](https://github.com/znxlwm/pytorch-CartoonGAN):将真实场景转化为动漫场景，后端为PyTorch。\n",
    "\n"
   ]
  },
  {
   "cell_type": "code",
   "execution_count": null,
   "metadata": {},
   "outputs": [],
   "source": []
  }
 ],
 "metadata": {
  "kernelspec": {
   "display_name": "Python 3",
   "language": "python",
   "name": "python3"
  },
  "language_info": {
   "codemirror_mode": {
    "name": "ipython",
    "version": 3
   },
   "file_extension": ".py",
   "mimetype": "text/x-python",
   "name": "python",
   "nbconvert_exporter": "python",
   "pygments_lexer": "ipython3",
   "version": "3.6.7"
  }
 },
 "nbformat": 4,
 "nbformat_minor": 4
}
