{
 "cells": [
  {
   "cell_type": "markdown",
   "metadata": {},
   "source": [
    "# 7.4 案例展示"
   ]
  },
  {
   "cell_type": "markdown",
   "metadata": {},
   "source": [
    "## 7.4.1实验数据"
   ]
  },
  {
   "cell_type": "markdown",
   "metadata": {},
   "source": [
    "（1）全色影像数据"
   ]
  },
  {
   "cell_type": "markdown",
   "metadata": {},
   "source": [
    "全色灰度单波段影像，像元总数为 1200 X 1200， 像元灰度值范围为 0至255。"
   ]
  },
  {
   "cell_type": "markdown",
   "metadata": {},
   "source": [
    "![](DataImage/PanDatasource.png)"
   ]
  },
  {
   "cell_type": "markdown",
   "metadata": {},
   "source": [
    "（2）多光谱影像数据"
   ]
  },
  {
   "cell_type": "markdown",
   "metadata": {},
   "source": [
    "多光谱影像，4个波段：蓝、绿、红、近红波段。每个波段的像元总数为 1200 X 1200， 像元灰度值范围为  0至255。"
   ]
  },
  {
   "cell_type": "markdown",
   "metadata": {},
   "source": [
    "![](DataImage/MultyBandData.png)"
   ]
  },
  {
   "cell_type": "markdown",
   "metadata": {},
   "source": [
    "（3）真实地物类别数据——GroundTruth"
   ]
  },
  {
   "cell_type": "markdown",
   "metadata": {},
   "source": [
    "GroudTruth为地表真实类别，数据格式为1200X1200的矩阵，矩阵中每个数据代表影像对应栅格处的类别编号，编号取值范围为1，2，3，4，5，6 <br />\n",
    "六个编号代表六种地物类型，编号1代表：水体（water），2代表草地（grass），3代表建筑物（building），4代表道路（roda），<br />\n",
    "5代表裸地（BareLand），6代表：背景（background）。"
   ]
  },
  {
   "cell_type": "markdown",
   "metadata": {},
   "source": [
    "![](DataImage/GroundTruth.png)"
   ]
  },
  {
   "cell_type": "markdown",
   "metadata": {},
   "source": [
    "## 7.4.2 最大似然分类法简述"
   ]
  },
  {
   "cell_type": "markdown",
   "metadata": {},
   "source": [
    "在两类或多类判决中，用统计方法根据最大似然比贝叶斯判决准则法建立非线性判别函数集，假定各类分布函数为正态分布，并选择训练区，计算各待分类样区的归属概率，而进行分类的一种图像分类方法。\n",
    "\n",
    "\n",
    "在传统的遥感图像分类中，最大似然法的应用比较广泛。该方法通过对感兴区域的统计和计算，得到各个类别的均值和方差等参数，从而确定一个分类函数，然后将待分类图像中的每一个像元代入各个类别的分类函数， 将函数返回值最大的类别作为被扫描像元的归属类别，从而达到分类的效果。\n",
    "\n",
    "\n",
    "遥感影像计算机自动识别与分类，就是利用计算机对地球表面及其环境在遥感图像上的信息进行属性的识别和分类，从而达到识别图像信息所相应的实际地物，提取所需地物信息的目的. 目前遥感影像自动分类主要是利用地物（或对象）在遥感影像上反映出来的光谱特征来进行识别与分类。"
   ]
  },
  {
   "cell_type": "markdown",
   "metadata": {},
   "source": [
    "在本节实验中，假设所有地物类别的先验概率一样，然后统计每种地物的所有像元灰度值的类条件概率（即似然），再比较每个灰度值的似然，得出最大似然，将最大似然所对应的类别作为该灰度值的类别编号，完成对整个图像的分类。"
   ]
  },
  {
   "cell_type": "markdown",
   "metadata": {},
   "source": [
    "## 7.4.3 全色和多光谱影像分类"
   ]
  },
  {
   "cell_type": "markdown",
   "metadata": {},
   "source": [
    "（1）全色单波段影像分类"
   ]
  },
  {
   "cell_type": "markdown",
   "metadata": {},
   "source": [
    "![](TheSencondOfSeven/ALLFrequencyHistogramOfPanchromaticSixClassObjects.png)"
   ]
  },
  {
   "cell_type": "markdown",
   "metadata": {},
   "source": [
    "类条件概率"
   ]
  },
  {
   "cell_type": "markdown",
   "metadata": {},
   "source": [
    "![](TheSencondOfSeven/PanClassificationEffect.png)"
   ]
  },
  {
   "cell_type": "markdown",
   "metadata": {},
   "source": [
    "全色影像分类效果"
   ]
  },
  {
   "cell_type": "markdown",
   "metadata": {},
   "source": [
    "将分类结果和GroundTruth进行比较，当类别相同时（表示分类正确），像元值赋为1，当类别不同时（表示分类错误），像元值赋为0，<br />\n",
    "得到分类精度效果图，即图中白色区域为分类正确，黑色区域表示分类错误（见 全色影像分类精度二值图像）。"
   ]
  },
  {
   "cell_type": "markdown",
   "metadata": {},
   "source": [
    "![](TheSencondOfSeven/PanClassificationAccuracy.png)"
   ]
  },
  {
   "cell_type": "markdown",
   "metadata": {},
   "source": [
    " 全色影像分类精度二值图像"
   ]
  },
  {
   "cell_type": "markdown",
   "metadata": {},
   "source": [
    "分析上图可知，对全色影像进行分类的效果较差，只有较大面积的纯净地物才能较好的分离出，在地物边界和破碎的类别处，无法进行有效的区分，<br />\n",
    "且存在较为严重的椒盐噪声。"
   ]
  },
  {
   "cell_type": "markdown",
   "metadata": {},
   "source": [
    "（2）多光谱四波段影像分类"
   ]
  },
  {
   "cell_type": "markdown",
   "metadata": {},
   "source": [
    "![](TheSencondOfSeven/Multispectral4ClassificationEffect.png)"
   ]
  },
  {
   "cell_type": "markdown",
   "metadata": {},
   "source": [
    "多光谱影像分类效果"
   ]
  },
  {
   "cell_type": "markdown",
   "metadata": {},
   "source": [
    "![](TheSencondOfSeven/Multispectral4ClassificationAccuracy.png)"
   ]
  },
  {
   "cell_type": "markdown",
   "metadata": {},
   "source": [
    " 多光谱影像分类精度二值图像"
   ]
  },
  {
   "cell_type": "markdown",
   "metadata": {},
   "source": [
    "分析上面两图可知，对多光谱影像进行分类的效果较好，只有在地类边界处，才会出现一些误分像元，在地物内部，区分效果特别好。"
   ]
  },
  {
   "cell_type": "markdown",
   "metadata": {},
   "source": [
    "（3）分类精度比较"
   ]
  },
  {
   "cell_type": "markdown",
   "metadata": {},
   "source": [
    "![](TheSencondOfSeven/ClassificationAccuracyComparison.JPG)"
   ]
  },
  {
   "cell_type": "markdown",
   "metadata": {},
   "source": [
    "对全色影像和多光谱影像的分类精度进行比较，可知：多光谱影像的正确分类像元数（1212451）远高于全色影像的（586987），<br />\n",
    "多光谱影像的分类精度高达84.20%，而全色影像的分类精度只有40.76%。"
   ]
  },
  {
   "cell_type": "markdown",
   "metadata": {},
   "source": [
    "原因分析：全色影像只有一个波段，而多光谱影像具有四个波段，对于每个像元来说，从一个特征（波段）升高到四个特征（波段），<br />\n",
    "&emsp;&emsp;即是光谱上的升维，在计算类条件概率时，从一维空间升高的四维空间，同时多光谱影像的每个波段对不同地物的频率直方图<br />\n",
    "&emsp;&emsp;响应情况都不同,进而导致多光谱影像的分类精度要远高于全色影像的精度。"
   ]
  },
  {
   "cell_type": "markdown",
   "metadata": {},
   "source": [
    "下一节将针对全色影像，考虑像元邻近性关系，即从空间升维的角度，来对全色影像进行分类，并比较不同邻域情况下分类结果的差异。"
   ]
  },
  {
   "cell_type": "markdown",
   "metadata": {},
   "source": [
    "## 7.4.4 全色影像空间邻域升维后分类"
   ]
  },
  {
   "cell_type": "markdown",
   "metadata": {},
   "source": [
    "（1）二邻域空间升维"
   ]
  },
  {
   "cell_type": "markdown",
   "metadata": {},
   "source": [
    "对于全色影像，先考虑最简单的空间升维，即对于每个像元，取其右边的像元组成一个新的波段，这样每个像元上就对应两个灰度值。<br />\n",
    "再利用贝叶斯分类的方法对影像进行分类。"
   ]
  },
  {
   "cell_type": "markdown",
   "metadata": {},
   "source": [
    "![](TheThridOfSeven/TwoEffect.png) "
   ]
  },
  {
   "cell_type": "markdown",
   "metadata": {},
   "source": [
    "全色-二邻域分类效果"
   ]
  },
  {
   "cell_type": "markdown",
   "metadata": {},
   "source": [
    "![](TheThridOfSeven/TwoAccuracy.png)"
   ]
  },
  {
   "cell_type": "markdown",
   "metadata": {},
   "source": [
    " 全色-二邻域分类精度二值图"
   ]
  },
  {
   "cell_type": "markdown",
   "metadata": {},
   "source": [
    "（2）三邻域空间升维"
   ]
  },
  {
   "cell_type": "markdown",
   "metadata": {},
   "source": [
    "考虑三邻域的空间升维，即对于每个像元，取它的左边、右边像元和它自己，即每个像元上对应三个灰度值。再利用贝叶斯分类的方法对影像进行分类。"
   ]
  },
  {
   "cell_type": "markdown",
   "metadata": {},
   "source": [
    "![](TheThridOfSeven/ThreeEffect.png)"
   ]
  },
  {
   "cell_type": "markdown",
   "metadata": {},
   "source": [
    "全色-三邻域分类效果"
   ]
  },
  {
   "cell_type": "markdown",
   "metadata": {},
   "source": [
    "![](TheThridOfSeven/ThreeAccuracy.png)"
   ]
  },
  {
   "cell_type": "markdown",
   "metadata": {},
   "source": [
    " 全色-三邻域分类精度二值图"
   ]
  },
  {
   "cell_type": "markdown",
   "metadata": {},
   "source": [
    "（3）五邻域空间升维"
   ]
  },
  {
   "cell_type": "markdown",
   "metadata": {},
   "source": [
    "考虑五邻域的空间升维，即对于每个像元，取它的上、下、左、右和它自己，即每个像元上对应五个灰度值。再利用贝叶斯分类的方法对影像进行分类。"
   ]
  },
  {
   "cell_type": "markdown",
   "metadata": {},
   "source": [
    "![](TheThridOfSeven/FiveEffect.png)"
   ]
  },
  {
   "cell_type": "markdown",
   "metadata": {},
   "source": [
    "全色-五邻域分类效果"
   ]
  },
  {
   "cell_type": "markdown",
   "metadata": {},
   "source": [
    "![](TheThridOfSeven/FiveAccuracy.png)"
   ]
  },
  {
   "cell_type": "markdown",
   "metadata": {},
   "source": [
    "全色-五邻域分类精度二值图"
   ]
  },
  {
   "cell_type": "markdown",
   "metadata": {},
   "source": [
    "（4） 九邻域空间升维"
   ]
  },
  {
   "cell_type": "markdown",
   "metadata": {},
   "source": [
    "考虑九邻域的空间升维，即对于每个像元，取它的上、下、左、右、左上、右上、左下、右下和它自己，即每个像元上对应九个灰度值。<br />\n",
    "再利用贝叶斯分类的方法对影像进行分类。"
   ]
  },
  {
   "cell_type": "markdown",
   "metadata": {},
   "source": [
    "![](TheThridOfSeven/NineEffect.png)"
   ]
  },
  {
   "cell_type": "markdown",
   "metadata": {},
   "source": [
    "全色-九邻域分类效果"
   ]
  },
  {
   "cell_type": "markdown",
   "metadata": {},
   "source": [
    "![](TheThridOfSeven/NineAccuracy.png)"
   ]
  },
  {
   "cell_type": "markdown",
   "metadata": {},
   "source": [
    "全色-九邻域分类精度二值图"
   ]
  },
  {
   "cell_type": "markdown",
   "metadata": {},
   "source": [
    "（5）分类精度比较"
   ]
  },
  {
   "cell_type": "markdown",
   "metadata": {},
   "source": [
    "![](TheThridOfSeven/SpaceAccuracyComparison.JPG)"
   ]
  },
  {
   "cell_type": "markdown",
   "metadata": {},
   "source": [
    "从上文的分类精度图和分类精度比较表可知，对于空间升维，考虑的空间邻域范围较大的时候，分类精度较高。全色单波段影像分类精度为40.76%，<br />\n",
    "二邻域空间升维分类精度为45.78%，三邻域分类精度为48.61%，五邻域分类精度为68.90%，九邻域分类精度为85.82%。总体上看，分类精度大概<br />\n",
    "从40%增加到85%，地物内部区分效果一直较好，在地类边界处，随着空间邻域的范围扩大，分类效果越来越好。"
   ]
  },
  {
   "cell_type": "markdown",
   "metadata": {},
   "source": [
    "## 7.4.5 类先验概率约束下的全色影像分类"
   ]
  },
  {
   "cell_type": "markdown",
   "metadata": {},
   "source": [
    "(1)考虑类先验概率"
   ]
  },
  {
   "cell_type": "markdown",
   "metadata": {},
   "source": [
    "第7.4.3和第7.4.4小节中的分类，都是假设每种地物类别的先验概率相同，因此类条件概率的大小关系就等同于后验概率的大小关系。\n",
    "\n",
    "&emsp;而在本节中，仍然针对全色影像，每种地物类别的先验概率不相同，对于GroundTruth数据，考虑每个像元的上、下、左、右、左上、右上、左下和右下，<br />\n",
    "这八个像元(相当于3 X 3的窗口内)，统计每个类别的频率。 每个像元就会对应六个类的先验概率，在用朴素贝叶斯进行分类决策时，<br />\n",
    "每个像元上的类条件概率乘以类的先验概率，即为类的后验概率，找出每个像元上的类后验概率最大值所对应的类别编号，进而实现了分类。"
   ]
  },
  {
   "cell_type": "markdown",
   "metadata": {},
   "source": [
    "![](IMG74/Imag745.jpg)"
   ]
  },
  {
   "cell_type": "markdown",
   "metadata": {},
   "source": [
    "(2)分类效果和精度"
   ]
  },
  {
   "cell_type": "markdown",
   "metadata": {},
   "source": [
    "将分类结果和GroundTruth进行比较，当类别相同时（表示分类正确），像元值赋为1，当类别不同时（表示分类错误），像元值赋为0，<br />\n",
    "得到分类精度效果图，即图中白色区域为分类正确，黑色区域表示分类错误。"
   ]
  },
  {
   "cell_type": "markdown",
   "metadata": {},
   "source": [
    "![](IMG74/Imag745E.jpg)"
   ]
  },
  {
   "cell_type": "markdown",
   "metadata": {},
   "source": [
    "考虑类的先验概率-分类效果图"
   ]
  },
  {
   "cell_type": "markdown",
   "metadata": {},
   "source": [
    "![](IMG74/Imag745A.jpg)"
   ]
  },
  {
   "cell_type": "markdown",
   "metadata": {},
   "source": [
    "分类精度——二值图"
   ]
  },
  {
   "cell_type": "markdown",
   "metadata": {},
   "source": [
    "从上图可知：分类效果较好，分类精度很高，基本上和GroundTruth相一致，经统计得到分类正确的像元数为1395441，占总像元数的比例为96.91%,<br />\n",
    "（即为分类精度），仅在地物特别破碎的地类边界上，区分效果较差。"
   ]
  }
 ],
 "metadata": {
  "kernelspec": {
   "display_name": "Python 3",
   "language": "python",
   "name": "python3"
  },
  "language_info": {
   "codemirror_mode": {
    "name": "ipython",
    "version": 3
   },
   "file_extension": ".py",
   "mimetype": "text/x-python",
   "name": "python",
   "nbconvert_exporter": "python",
   "pygments_lexer": "ipython3",
   "version": "3.6.1"
  },
  "toc": {
   "colors": {
    "hover_highlight": "#DAA520",
    "navigate_num": "#000000",
    "navigate_text": "#333333",
    "running_highlight": "#FF0000",
    "selected_highlight": "#FFD700",
    "sidebar_border": "#EEEEEE",
    "wrapper_background": "#FFFFFF"
   },
   "moveMenuLeft": true,
   "nav_menu": {
    "height": "137px",
    "width": "252px"
   },
   "navigate_menu": true,
   "number_sections": true,
   "sideBar": true,
   "threshold": 4,
   "toc_cell": false,
   "toc_position": {
    "height": "531px",
    "left": "0px",
    "right": "1148px",
    "top": "106px",
    "width": "212px"
   },
   "toc_section_display": "block",
   "toc_window_display": true,
   "widenNotebook": false
  }
 },
 "nbformat": 4,
 "nbformat_minor": 2
}
