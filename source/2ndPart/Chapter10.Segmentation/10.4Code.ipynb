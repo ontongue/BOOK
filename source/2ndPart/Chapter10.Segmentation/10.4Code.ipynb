{
 "cells": [
  {
   "cell_type": "markdown",
   "metadata": {},
   "source": [
    "# 10.4 代码示例"
   ]
  },
  {
   "cell_type": "markdown",
   "metadata": {},
   "source": [
    "反卷积层在TensorFlow中已经实现了，直接调用就可以，其中也可以替换为上采样，也可以与BatchNormalization配合使用。"
   ]
  },
  {
   "cell_type": "markdown",
   "metadata": {},
   "source": [
    "```python     \n",
    "        UpSampling2D(size=(pool_size,pool_size)),\n",
    "        ZeroPadding2D(padding=(pad,pad)),\n",
    "        Convolution2D(512, kernel, kernel, border_mode='valid'),\n",
    "        BatchNormalization(),\n",
    "\n",
    "        UpSampling2D(size=(pool_size,pool_size)),\n",
    "        ZeroPadding2D(padding=(pad,pad)),\n",
    "        Convolution2D(256, kernel, kernel, border_mode='valid'),\n",
    "        BatchNormalization(),\n",
    "\n",
    "        UpSampling2D(size=(pool_size,pool_size)),\n",
    "        ZeroPadding2D(padding=(pad,pad)),\n",
    "        Convolution2D(128, kernel, kernel, border_mode='valid'),\n",
    "        BatchNormalization(),\n",
    "\n",
    "        UpSampling2D(size=(pool_size,pool_size)),\n",
    "        ZeroPadding2D(padding=(pad,pad)),\n",
    "        Convolution2D(filter_size, kernel, kernel, border_mode='valid'),\n",
    "        BatchNormalization()\n",
    "```"
   ]
  },
  {
   "cell_type": "markdown",
   "metadata": {},
   "source": [
    "其他反卷积结构的代码可以在下述链接中查阅："
   ]
  },
  {
   "cell_type": "markdown",
   "metadata": {},
   "source": [
    "https://github.com/KamranSial/Fully_convolutional_networks/blob/master/FCN-trainer-coarse.ipynb"
   ]
  },
  {
   "cell_type": "markdown",
   "metadata": {},
   "source": [
    "https://github.com/preddy5/segnet/blob/master/segnet.py"
   ]
  },
  {
   "cell_type": "markdown",
   "metadata": {},
   "source": [
    "https://github.com/fchollet/keras/issues/5369"
   ]
  }
 ],
 "metadata": {
  "kernelspec": {
   "display_name": "Python 3",
   "language": "python",
   "name": "python3"
  },
  "language_info": {
   "codemirror_mode": {
    "name": "ipython",
    "version": 3
   },
   "file_extension": ".py",
   "mimetype": "text/x-python",
   "name": "python",
   "nbconvert_exporter": "python",
   "pygments_lexer": "ipython3",
   "version": "3.6.0"
  }
 },
 "nbformat": 4,
 "nbformat_minor": 2
}
