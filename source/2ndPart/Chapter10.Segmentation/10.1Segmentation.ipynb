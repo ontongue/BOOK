{
 "cells": [
  {
   "cell_type": "markdown",
   "metadata": {},
   "source": [
    "# 10.1 图像分割概述"
   ]
  },
  {
   "cell_type": "markdown",
   "metadata": {},
   "source": [
    "图像分割指的是根据图像亮度值和基于亮度值提取的特征把图像划分成若干的区域，同一区域内呈现出相似性，而在不同区域间呈现出明显的差异性。图像分割是为了逐像素分类而做的准备，一般会在分割后进行分类的处理。"
   ]
  },
  {
   "cell_type": "markdown",
   "metadata": {},
   "source": [
    "![](images/MRF.jpg)"
   ]
  },
  {
   "cell_type": "markdown",
   "metadata": {},
   "source": [
    "常用的逐像素分类的方法包括包括基于面向对象对象、马尔科夫随机场、卷积神经网络等方法，马尔科夫随机场的思想主要是通过像素和像素之间的关系权重来综合考虑，根据给出的阈值，将图像一分为二，分为所选类别和非所选类别。反卷积网络是目前大规模数据上表现优异的一类方法，下一章将着重介绍这一部分的内容。"
   ]
  },
  {
   "cell_type": "markdown",
   "metadata": {},
   "source": [
    "![](images/Deconv.jpeg)"
   ]
  }
 ],
 "metadata": {
  "kernelspec": {
   "display_name": "Python 3",
   "language": "python",
   "name": "python3"
  },
  "language_info": {
   "codemirror_mode": {
    "name": "ipython",
    "version": 3
   },
   "file_extension": ".py",
   "mimetype": "text/x-python",
   "name": "python",
   "nbconvert_exporter": "python",
   "pygments_lexer": "ipython3",
   "version": "3.6.0"
  }
 },
 "nbformat": 4,
 "nbformat_minor": 2
}
