{
 "cells": [
  {
   "cell_type": "markdown",
   "metadata": {},
   "source": [
    "# 10.5 RNN推荐阅读"
   ]
  },
  {
   "cell_type": "markdown",
   "metadata": {},
   "source": [
    "循环神经网络是对序列数据有较强的处理能力的一种复杂网络，被广泛应用于文本相关的任务。在遥感相关应用中，如果将某地物的边界点作为序列数据，则此时也可以使用RNN来处理。为了帮助大家理解，下文推荐部分优质博客。"
   ]
  },
  {
   "cell_type": "markdown",
   "metadata": {},
   "source": [
    "[零基础入门深度学习(5) - 循环神经网络](https://zybuluo.com/hanbingtao/note/541458)"
   ]
  },
  {
   "cell_type": "markdown",
   "metadata": {},
   "source": [
    "# 10.6 RNN相关代码推荐"
   ]
  },
  {
   "cell_type": "markdown",
   "metadata": {},
   "source": [
    "由于循环神经网络RNN在处理序列数据具有出色表现，常被应用在情感分析、自然语言处理等领域，在计算机视觉方面应用较少。\n",
    "以下为大家推荐相关的代码以供参考。\n"
   ]
  },
  {
   "cell_type": "markdown",
   "metadata": {},
   "source": [
    "\n",
    "[Text Classification with CNN and RNN](https://github.com/gaussic/text-classification-cnn-rnn)：使用RNN进行文本分析，后端为Tensorflow  \n",
    "\n",
    "[Sentiment Analysis with LSTMs](https://github.com/adeshpande3/LSTM-Sentiment-Analysis):使用LSTM进行语义分析，后端为Tensorflow  \n",
    "\n",
    "[Predict stock with LSTM](https://github.com/hichenway/stock_predict_with_LSTM):使用LSTM预测股票，后端为Tensorflow  \n",
    "\n",
    "[Precipitation-Nowcasting](https://github.com/Hzzone/Precipitation-Nowcasting):使用LSTM对降雨进行预测，其中完成了ConvLSTM，后端为Pytorch"
   ]
  },
  {
   "cell_type": "code",
   "execution_count": null,
   "metadata": {},
   "outputs": [],
   "source": []
  }
 ],
 "metadata": {
  "kernelspec": {
   "display_name": "Python 3",
   "language": "python",
   "name": "python3"
  },
  "language_info": {
   "codemirror_mode": {
    "name": "ipython",
    "version": 3
   },
   "file_extension": ".py",
   "mimetype": "text/x-python",
   "name": "python",
   "nbconvert_exporter": "python",
   "pygments_lexer": "ipython3",
   "version": "3.6.7"
  }
 },
 "nbformat": 4,
 "nbformat_minor": 4
}
