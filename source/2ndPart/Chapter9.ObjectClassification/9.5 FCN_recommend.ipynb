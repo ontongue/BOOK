{
 "cells": [
  {
   "cell_type": "markdown",
   "metadata": {},
   "source": [
    "# 9.5 FCN推荐阅读"
   ]
  },
  {
   "cell_type": "markdown",
   "metadata": {},
   "source": [
    "FCN是语义分割任务下的经典网络框架，并且应用广泛的全卷积网络也是在此首次提出。为了帮助大家理解，下文将列出内容较好的中文博客。"
   ]
  },
  {
   "cell_type": "markdown",
   "metadata": {},
   "source": [
    "[FCN学习:Semantic Segmentation](https://zhuanlan.zhihu.com/p/22976342)  \n",
    "[图像语义分割入门+FCN/U-Net网络解析](https://zhuanlan.zhihu.com/p/31428783)"
   ]
  },
  {
   "cell_type": "markdown",
   "metadata": {},
   "source": [
    "# 9.6 相关代码推荐"
   ]
  },
  {
   "cell_type": "markdown",
   "metadata": {},
   "source": [
    "为了帮助大家进一步了解语义分割相关的网络，下文为大家提供Github上较为经典的语义分割不同方法的代码，包括FCN/U-Net/DeeplabV3+以及相关集成框架。  \n",
    "  \n",
    "以下分别为FCN的TF和PyTorch的实现代码 。   \n",
    "[FCN-TF implemented](https://github.com/shekkizh/FCN.tensorflow)  \n",
    "[FCN-torch implemented](https://github.com/wkentaro/pytorch-fcn)\n",
    "  \n",
    "以下分别为U-Net的Tensorflow/Pytorch/Keras的实现代码，其中第三个代码是一个包装好的第三方库，包含较多不同的Backbone，可直接使用，也可以作为参考进行修改。   \n",
    "[U-Net-TF](https://github.com/zhixuhao/unet)  \n",
    "[U-Net-torch](https://github.com/milesial/Pytorch-UNet)  \n",
    "[U-Net with different Backbones and other semantic segmentation networks](https://github.com/qubvel/segmentation_models)   \n",
    "\n",
    "以下为DeepLabV3+的Tensorflow和Pytorch实现代码。  \n",
    "[DeepLabV3+ TF implemented](https://github.com/rishizek/tensorflow-deeplab-v3-plus)  \n",
    "[DeepLabV3+ PyTorch implemented](https://github.com/fregu856/deeplabv3)"
   ]
  },
  {
   "cell_type": "code",
   "execution_count": null,
   "metadata": {},
   "outputs": [],
   "source": []
  }
 ],
 "metadata": {
  "kernelspec": {
   "display_name": "Python 3",
   "language": "python",
   "name": "python3"
  },
  "language_info": {
   "codemirror_mode": {
    "name": "ipython",
    "version": 3
   },
   "file_extension": ".py",
   "mimetype": "text/x-python",
   "name": "python",
   "nbconvert_exporter": "python",
   "pygments_lexer": "ipython3",
   "version": "3.6.7"
  }
 },
 "nbformat": 4,
 "nbformat_minor": 4
}
