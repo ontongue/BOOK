{
 "cells": [
  {
   "cell_type": "markdown",
   "metadata": {},
   "source": [
    "# 5.5 课后习题"
   ]
  },
  {
   "cell_type": "markdown",
   "metadata": {},
   "source": [
    "1、考虑一个两类分类问题，采用如下的训练模式：\n",
    "$$\\begin{array}{|l|l|}\n",
    "\\hline \\omega_{1} & \\omega_{2} \\\\\n",
    "\\hline 0110 & 1011 \\\\\n",
    "1010 & 0000 \\\\\n",
    "0011 & 0100 \\\\\n",
    "1111 & 1110 \\\\\n",
    "\\hline\n",
    "\\end{array}$$\n",
    "\n",
    "(a)用熵不纯度（式（1））手工生成一棵未剪枝的分类树。\n",
    "\n",
    "(b)利用简单的逻辑表达式简化规则对上面得到的类别进行简化，以得到最简单的逻辑表达式（使用最少的AND和OR）。\n"
   ]
  }
 ],
 "metadata": {
  "kernelspec": {
   "display_name": "Python 3",
   "language": "python",
   "name": "python3"
  },
  "language_info": {
   "codemirror_mode": {
    "name": "ipython",
    "version": 3
   },
   "file_extension": ".py",
   "mimetype": "text/x-python",
   "name": "python",
   "nbconvert_exporter": "python",
   "pygments_lexer": "ipython3",
   "version": "3.6.5"
  },
  "toc": {
   "base_numbering": 1,
   "nav_menu": {},
   "number_sections": true,
   "sideBar": true,
   "skip_h1_title": false,
   "title_cell": "Table of Contents",
   "title_sidebar": "Contents",
   "toc_cell": false,
   "toc_position": {},
   "toc_section_display": true,
   "toc_window_display": false
  }
 },
 "nbformat": 4,
 "nbformat_minor": 2
}
