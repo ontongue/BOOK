{
 "cells": [
  {
   "cell_type": "markdown",
   "metadata": {},
   "source": [
    "# 4.4 探究式问题"
   ]
  },
  {
   "cell_type": "markdown",
   "metadata": {},
   "source": [
    "（1）神经网络隐层的作用是什么？\n",
    "\n",
    "（2）输入空间中线性不可分的两类是否能线性可分？\n",
    "\n",
    "（3）非线性变换函数的作用是什么？\n",
    "\n",
    "（4）支持向量机中核函数的作用是什么？输入空间中线性不可分的两类是否能线性可分？\n",
    "\n",
    "（5）核函数的参数如何选择？"
   ]
  }
 ],
 "metadata": {
  "kernelspec": {
   "display_name": "Python 3",
   "language": "python",
   "name": "python3"
  },
  "language_info": {
   "codemirror_mode": {
    "name": "ipython",
    "version": 3
   },
   "file_extension": ".py",
   "mimetype": "text/x-python",
   "name": "python",
   "nbconvert_exporter": "python",
   "pygments_lexer": "ipython3",
   "version": "3.6.4"
  }
 },
 "nbformat": 4,
 "nbformat_minor": 2
}
