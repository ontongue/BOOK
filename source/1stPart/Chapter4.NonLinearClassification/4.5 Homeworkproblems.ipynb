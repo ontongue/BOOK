{
 "cells": [
  {
   "cell_type": "markdown",
   "metadata": {},
   "source": [
    "# 4.5 课后习题"
   ]
  },
  {
   "cell_type": "markdown",
   "metadata": {},
   "source": [
    "1、定性的分析为什么当样本取自截然不同的两类（即没有特征点同时归为这两类）时，一定存在一个到更高维的非线性映射使得样本线性可分。\n",
    "\n",
    "2、在应用于两类问题的标准boosting法中，我们必须产生一个对于当前的分类器含有“最富信息”的数据集，为什么这意味着只有一半模式能够被正确地分类，而不是任何一个模式都不能被正确分类？对于c类问题，“最富信息”集中的哪部分模式必定被错误地分类？\n"
   ]
  }
 ],
 "metadata": {
  "kernelspec": {
   "display_name": "Python 3",
   "language": "python",
   "name": "python3"
  },
  "language_info": {
   "codemirror_mode": {
    "name": "ipython",
    "version": 3
   },
   "file_extension": ".py",
   "mimetype": "text/x-python",
   "name": "python",
   "nbconvert_exporter": "python",
   "pygments_lexer": "ipython3",
   "version": "3.6.5"
  },
  "toc": {
   "base_numbering": 1,
   "nav_menu": {},
   "number_sections": true,
   "sideBar": true,
   "skip_h1_title": false,
   "title_cell": "Table of Contents",
   "title_sidebar": "Contents",
   "toc_cell": false,
   "toc_position": {},
   "toc_section_display": true,
   "toc_window_display": false
  }
 },
 "nbformat": 4,
 "nbformat_minor": 2
}
