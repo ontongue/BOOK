{
 "cells": [
  {
   "cell_type": "markdown",
   "metadata": {},
   "source": [
    "# 6.5 课后习题"
   ]
  },
  {
   "cell_type": "markdown",
   "metadata": {},
   "source": [
    "1、$\\mathbf{x}_{1}, \\ldots, \\mathbf{x}_{n}$为n个d维样本，$\\sum$是任意的大小为$d \\times d$的非奇异矩阵。证明使得\n",
    "\n",
    "$$\\sum_{k=1}^{m}\\left(\\mathrm{x}_{k}-\\mathrm{x}\\right)^{t} \\Sigma^{-1}\\left(\\mathrm{x}_{k}-\\mathrm{x}\\right)$$\n",
    "\n",
    "最小的x就是样本的均值$\\overline{\\mathrm{x}}=1 / n \\sum_{k=1}^{n} \\mathrm{x}_{k}$。\n"
   ]
  },
  {
   "cell_type": "markdown",
   "metadata": {},
   "source": [
    "2、在某种层次聚类中，每次迭代都将某两个类合并为一个类，而且这两个类的合并是所有可能合并中使得误差平方和增加最小的一个。如果第i个类有$n_{i}$个样本，均值为$\\mathbf{m}_{i}$，证明合并后使得误差平方和增加最小的两个类同时也是使\n",
    "\n",
    "$$\\frac{n_{i} n_{j}}{n_{i}+n_{j}}\\left\\|\\mathbf{m}_{i}-\\mathbf{m}_{j}\\right\\|^{2}$$\n",
    "\n",
    "最小的两个类。"
   ]
  }
 ],
 "metadata": {
  "kernelspec": {
   "display_name": "Python 3",
   "language": "python",
   "name": "python3"
  },
  "language_info": {
   "codemirror_mode": {
    "name": "ipython",
    "version": 3
   },
   "file_extension": ".py",
   "mimetype": "text/x-python",
   "name": "python",
   "nbconvert_exporter": "python",
   "pygments_lexer": "ipython3",
   "version": "3.6.5"
  },
  "toc": {
   "base_numbering": 1,
   "nav_menu": {},
   "number_sections": true,
   "sideBar": true,
   "skip_h1_title": false,
   "title_cell": "Table of Contents",
   "title_sidebar": "Contents",
   "toc_cell": false,
   "toc_position": {},
   "toc_section_display": true,
   "toc_window_display": false
  }
 },
 "nbformat": 4,
 "nbformat_minor": 2
}
