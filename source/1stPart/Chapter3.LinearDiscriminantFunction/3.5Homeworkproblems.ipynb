{
 "cells": [
  {
   "cell_type": "markdown",
   "metadata": {},
   "source": [
    "# 3.5 课后习题"
   ]
  },
  {
   "cell_type": "markdown",
   "metadata": {},
   "source": [
    "1、考虑支持向量机和分属两类的训练样本：\n",
    "$$\\begin{array}{|c|c|c|}\n",
    "\\hline \\text { category } & x_{1} & x_{2} \\\\\n",
    "\\hline \\omega_{1} & 1 & 1 \\\\\n",
    "\\omega_{1} & 2 & 2 \\\\\n",
    "\\omega_{1} & 2 & 0 \\\\\n",
    "\\hline \\omega_{2} & 0 & 0 \\\\\n",
    "\\omega_{2} & 1 & 0 \\\\\n",
    "\\omega_{2} & 0 & 1 \\\\\n",
    "\\hline\n",
    "\\end{array}$$\n",
    "\n",
    "(a)\t在图中做出这6个训练点，构造具有最优超平面和最优间隔的权向量。\n",
    "\n",
    "(b)\t哪些是支持向量？\n",
    "\n",
    "(c)\t通过寻找拉格朗日待定乘数$\\alpha_{i}$来构造在对偶空间的解，并将它与(a)中的结果比较。\n",
    "\n"
   ]
  },
  {
   "cell_type": "code",
   "execution_count": null,
   "metadata": {},
   "outputs": [],
   "source": []
  }
 ],
 "metadata": {
  "kernelspec": {
   "display_name": "Python 3",
   "language": "python",
   "name": "python3"
  },
  "language_info": {
   "codemirror_mode": {
    "name": "ipython",
    "version": 3
   },
   "file_extension": ".py",
   "mimetype": "text/x-python",
   "name": "python",
   "nbconvert_exporter": "python",
   "pygments_lexer": "ipython3",
   "version": "3.6.5"
  },
  "toc": {
   "base_numbering": 1,
   "nav_menu": {},
   "number_sections": true,
   "sideBar": true,
   "skip_h1_title": false,
   "title_cell": "Table of Contents",
   "title_sidebar": "Contents",
   "toc_cell": false,
   "toc_position": {},
   "toc_section_display": true,
   "toc_window_display": false
  }
 },
 "nbformat": 4,
 "nbformat_minor": 2
}
