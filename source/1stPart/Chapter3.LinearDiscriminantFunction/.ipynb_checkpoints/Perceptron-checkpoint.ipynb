{
 "cells": [
  {
   "cell_type": "markdown",
   "metadata": {},
   "source": [
    "# Perceptron"
   ]
  },
  {
   "cell_type": "markdown",
   "metadata": {},
   "source": [
    "感知器（perceptron）是二类分类的线性分类模型，其输入为实例的特征向量，输出为实例的类别。感知机对应于输入空间（特征空间）中将实例划分为正负两类的分离超平面。感知机是一种线性分类模型。\n",
    "\n",
    "Perceptron 是适用于大规模学习的一种简单算法。默认情况下：\n",
    "- 不需要设置学习率（learning rate）。\n",
    "- 不需要正则化处理。\n",
    "- 仅使用错误样本更新模型。"
   ]
  },
  {
   "cell_type": "markdown",
   "metadata": {},
   "source": [
    "```\n",
    ">>class sklearn.linear_model.Perceptron(penalty=None, alpha=0.0001, fit_intercept=True, max_iter=None, tol=None, shuffle=True, verbose=0, eta0=1.0, n_jobs=1, random_state=0, class_weight=None, warm_start=False, n_iter=None)\n",
    "```"
   ]
  },
  {
   "cell_type": "markdown",
   "metadata": {},
   "source": [
    "### 参数"
   ]
  },
  {
   "cell_type": "markdown",
   "metadata": {},
   "source": [
    "    penalty（惩罚） : None, ‘l2’ or ‘l1’ or ‘elasticnet’\n",
    "    使用的惩罚（正则项），默认为没有。"
   ]
  },
  {
   "cell_type": "markdown",
   "metadata": {},
   "source": [
    "```\n",
    "alpha : float\n",
    "如果使用正则化，就会使正则项成倍增加。默认为0.0001。\n",
    "```"
   ]
  },
  {
   "cell_type": "markdown",
   "metadata": {},
   "source": [
    "```\n",
    "shuffle : bool, optional, default True\n",
    "训练数据是否在一个epoch后重新打乱。默认为是的。（epoch为一个周期，期间遍历所有数据）\n",
    "```"
   ]
  },
  {
   "cell_type": "markdown",
   "metadata": {},
   "source": [
    "```\n",
    "random_state : int, RandomState instance or None, optional, default None\n",
    "在对数据进行洗牌时，伪随机数生成器的种子。\n",
    "- 如果是int，random_state是随机数生成器所使用的种子\n",
    "- 如果是RandomState instance，random_state是随机数生成器\n",
    "- 如果是None，随机数生成器是np.random所使用的随机状态实例\n",
    "默认为None。\n",
    "```"
   ]
  },
  {
   "cell_type": "markdown",
   "metadata": {},
   "source": [
    "### 贡献"
   ]
  },
  {
   "cell_type": "markdown",
   "metadata": {},
   "source": [
    "    coef_ : array, shape = [1, n_features] if n_classes == 2 else [n_classes, n_features]\n",
    "    分配给特征的权重。"
   ]
  },
  {
   "cell_type": "markdown",
   "metadata": {},
   "source": [
    "    intercept_ : array, shape = [1] if n_classes == 2 else [n_classes]\n",
    "    决策函数中的常量。"
   ]
  },
  {
   "cell_type": "markdown",
   "metadata": {},
   "source": [
    "    n_iter_ : int\n",
    "    达到停止标准的实际迭代次数。对于多类拟合，它是所有二进制拟合的最大值。"
   ]
  },
  {
   "cell_type": "markdown",
   "metadata": {},
   "source": [
    "### 方法"
   ]
  },
  {
   "cell_type": "markdown",
   "metadata": {},
   "source": [
    "- decision_function(X)  预测样本的置信度。\n",
    "- fit(X, y[, coef_init, intercept_init, …])  适用于随机梯度下降的线性模型。\n",
    "- predict(X)  为X中的样本预测类标签。\n",
    "- score(X, y[, sample_weight])  返回给定测试数据和标签的平均精度。\n",
    "- get_params([deep])  获取这个估计量的参数。"
   ]
  },
  {
   "cell_type": "code",
   "execution_count": null,
   "metadata": {
    "collapsed": true
   },
   "outputs": [],
   "source": []
  },
  {
   "cell_type": "code",
   "execution_count": null,
   "metadata": {
    "collapsed": true
   },
   "outputs": [],
   "source": []
  }
 ],
 "metadata": {
  "anaconda-cloud": {},
  "kernelspec": {
   "display_name": "Python [default]",
   "language": "python",
   "name": "python3"
  },
  "language_info": {
   "codemirror_mode": {
    "name": "ipython",
    "version": 3
   },
   "file_extension": ".py",
   "mimetype": "text/x-python",
   "name": "python",
   "nbconvert_exporter": "python",
   "pygments_lexer": "ipython3",
   "version": "3.6.0"
  }
 },
 "nbformat": 4,
 "nbformat_minor": 2
}
