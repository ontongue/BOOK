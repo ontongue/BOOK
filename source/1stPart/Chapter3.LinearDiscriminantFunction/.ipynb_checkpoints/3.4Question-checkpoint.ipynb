{
 "cells": [
  {
   "cell_type": "markdown",
   "metadata": {},
   "source": [
    "# 3.4 思考探索\n",
    "\n",
    "（1）不同损失函数的特点是什么？<br>\n",
    "\n",
    "（2）损失函数在分类器参数学习中的作用是什么？"
   ]
  }
 ],
 "metadata": {
  "anaconda-cloud": {},
  "kernelspec": {
   "display_name": "Python [default]",
   "language": "python",
   "name": "python3"
  },
  "language_info": {
   "codemirror_mode": {
    "name": "ipython",
    "version": 3
   },
   "file_extension": ".py",
   "mimetype": "text/x-python",
   "name": "python",
   "nbconvert_exporter": "python",
   "pygments_lexer": "ipython3",
   "version": "3.6.0"
  }
 },
 "nbformat": 4,
 "nbformat_minor": 2
}
